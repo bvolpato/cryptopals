{
 "cells": [
  {
   "cell_type": "code",
   "execution_count": 1,
   "id": "initial_id",
   "metadata": {
    "collapsed": true,
    "ExecuteTime": {
     "end_time": "2023-12-16T04:09:33.892702534Z",
     "start_time": "2023-12-16T04:09:33.892081085Z"
    }
   },
   "outputs": [
    {
     "name": "stdout",
     "output_type": "stream",
     "text": [
      "SSdtIGtpbGxpbmcgeW91ciBicmFpbiBsaWtlIGEgcG9pc29ub3VzIG11c2hyb29t\n"
     ]
    }
   ],
   "source": [
    "# Challenge 1\n",
    "\n",
    "input = \"49276d206b696c6c696e6720796f757220627261696e206c696b65206120706f69736f6e6f7573206d757368726f6f6d\"\n",
    "\n",
    "# Decode hex to bytes\n",
    "bb = bytes.fromhex(input)\n",
    "\n",
    "# Encode bytes to base64\n",
    "import base64\n",
    "output = base64.b64encode(bb)\n",
    "\n",
    "print(output.decode('utf-8'))\n"
   ]
  },
  {
   "cell_type": "code",
   "execution_count": 5,
   "outputs": [
    {
     "name": "stdout",
     "output_type": "stream",
     "text": [
      "746865206b696420646f6e277420706c6179\n"
     ]
    }
   ],
   "source": [
    "\n",
    "# Challenge 2\n",
    "\n",
    "input1 = \"1c0111001f010100061a024b53535009181c\"\n",
    "input2 = \"686974207468652062756c6c277320657965\"\n",
    "\n",
    "# Decode hex to bytes\n",
    "bb1 = bytes.fromhex(input1)\n",
    "bb2 = bytes.fromhex(input2)\n",
    "\n",
    "# XOR bytes\n",
    "xored = [a ^ b for a, b in zip(bb1, bb2)]\n",
    "\n",
    "# Encode bytes to hex\n",
    "out = bytes(xored).hex()\n",
    "\n",
    "print(out)\n"
   ],
   "metadata": {
    "collapsed": false,
    "ExecuteTime": {
     "end_time": "2023-12-16T04:10:29.889152269Z",
     "start_time": "2023-12-16T04:10:29.886718204Z"
    }
   },
   "id": "4fa6839355fce90c"
  },
  {
   "cell_type": "markdown",
   "source": [],
   "metadata": {
    "collapsed": false
   },
   "id": "be446b1ec2bb05ac"
  },
  {
   "cell_type": "code",
   "execution_count": null,
   "outputs": [],
   "source": [],
   "metadata": {
    "collapsed": false
   },
   "id": "5fa759ac82efa1d"
  }
 ],
 "metadata": {
  "kernelspec": {
   "display_name": "Python 3",
   "language": "python",
   "name": "python3"
  },
  "language_info": {
   "codemirror_mode": {
    "name": "ipython",
    "version": 2
   },
   "file_extension": ".py",
   "mimetype": "text/x-python",
   "name": "python",
   "nbconvert_exporter": "python",
   "pygments_lexer": "ipython2",
   "version": "2.7.6"
  }
 },
 "nbformat": 4,
 "nbformat_minor": 5
}
