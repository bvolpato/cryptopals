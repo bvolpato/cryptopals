{
 "cells": [
  {
   "cell_type": "code",
   "execution_count": 3,
   "metadata": {
    "collapsed": true,
    "ExecuteTime": {
     "end_time": "2023-12-16T03:05:56.044863482Z",
     "start_time": "2023-12-16T03:05:55.997793392Z"
    }
   },
   "outputs": [],
   "source": [
    "// Notebook in Kotlin for Cryptopals challenges"
   ]
  },
  {
   "cell_type": "code",
   "execution_count": 28,
   "outputs": [
    {
     "name": "stdout",
     "output_type": "stream",
     "text": [
      "Type: ByteArray, Content: [73, 39, 109, 32, 107, 105, 108, 108, 105, 110, 103, 32, 121, 111, 117, 114, 32, 98, 114, 97, 105, 110, 32, 108, 105, 107, 101, 32, 97, 32, 112, 111, 105, 115, 111, 110, 111, 117, 115, 32, 109, 117, 115, 104, 114, 111, 111, 109]\n",
      "SSdtIGtpbGxpbmcgeW91ciBicmFpbiBsaWtlIGEgcG9pc29ub3VzIG11c2hyb29t\n"
     ]
    }
   ],
   "source": [
    "// Challenge 1\n",
    "import java.util.Base64\n",
    "\n",
    "val input = \"49276d206b696c6c696e6720796f757220627261696e206c696b65206120706f69736f6e6f7573206d757368726f6f6d\"\n",
    "val bytesArr: ByteArray = input.chunked(2).map { it.toInt(16).toByte() }.toByteArray()\n",
    "\n",
    "println(\"Type: ${bytesArr::class.simpleName}, Content: ${bytesArr.contentToString()}\")\n",
    "\n",
    "val output = Base64.getEncoder().encodeToString(bytesArr)\n",
    "\n",
    "println(output)\n",
    "\n"
   ],
   "metadata": {
    "collapsed": false,
    "ExecuteTime": {
     "end_time": "2023-12-16T03:12:55.345448087Z",
     "start_time": "2023-12-16T03:12:55.279682421Z"
    }
   }
  },
  {
   "cell_type": "code",
   "execution_count": 34,
   "outputs": [
    {
     "name": "stdout",
     "output_type": "stream",
     "text": [
      "746865206b696420646f6e277420706c6179\n"
     ]
    }
   ],
   "source": [
    "import kotlin.experimental.xor\n",
    "\n",
    "// Challenge 2\n",
    "val input1 = \"1c0111001f010100061a024b53535009181c\"\n",
    "val input2 = \"686974207468652062756c6c277320657965\"\n",
    "\n",
    "val bytesArr1: ByteArray = input1.chunked(2).map { it.toInt(16).toByte() }.toByteArray()\n",
    "val bytesArr2: ByteArray = input2.chunked(2).map { it.toInt(16).toByte() }.toByteArray()\n",
    "\n",
    "val output = bytesArr1.zip(bytesArr2).map { (a, b) -> a.xor(b) }.toByteArray()\n",
    "val hexOutput = output.joinToString(\"\") { \"%02x\".format(it) }\n",
    "\n",
    "println(hexOutput)"
   ],
   "metadata": {
    "collapsed": false,
    "ExecuteTime": {
     "end_time": "2023-12-16T03:14:19.556376418Z",
     "start_time": "2023-12-16T03:14:19.423284715Z"
    }
   }
  },
  {
   "cell_type": "code",
   "execution_count": 50,
   "outputs": [
    {
     "name": "stdout",
     "output_type": "stream",
     "text": [
      "a: zVVRPW^\u0019tz\u001EJ\u0019UPR\\\u0019X\u0019IVLW]\u0019V_\u0019[XZVW\n",
      "b: yUUQST]\u001Awy\u001DI\u001AVSQ_\u001A[\u001AJUOT^\u001AU\\\u001AX[YUT\n",
      "c: xTTPRU\\\u001Bvx\u001CH\u001BWRP^\u001BZ\u001BKTNU_\u001BT]\u001BYZXTU\n",
      "d: SSWUR[\u001Cq\u001BO\u001CPUWY\u001C]\u001CLSIRX\u001CSZ\u001C^]_SR\n",
      "e: ~RRVTSZ\u001Dp~\u001AN\u001DQTVX\u001D\\\u001DMRHSY\u001DR[\u001D_\\^RS\n",
      "f: }QQUWPY\u001Es}\u0019M\u001ERWU[\u001E_\u001ENQKPZ\u001EQX\u001E\\_]QP\n",
      "g: |PPTVQX\u001Fr|\u0018L\u001FSVTZ\u001F^\u001FOPJQ[\u001FPY\u001F]^\\PQ\n",
      "h: s__[Y^W\u0010}s\u0017C\u0010\\Y[U\u0010Q\u0010@_E^T\u0010_V\u0010RQS_^\n",
      "i: r^^ZX_V\u0011|r\u0016B\u0011]XZT\u0011P\u0011A^D_U\u0011^W\u0011SPR^_\n",
      "j: q]]Y[\\U\u0012q\u0015A\u0012^[YW\u0012S\u0012B]G\\V\u0012]T\u0012PSQ]\\\n",
      "k: p\\\\XZ]T\u0013~p\u0014@\u0013_ZXV\u0013R\u0013C\\F]W\u0013\\U\u0013QRP\\]\n",
      "l: w[[_]ZS\u0014yw\u0013G\u0014X]_Q\u0014U\u0014D[AZP\u0014[R\u0014VUW[Z\n",
      "m: vZZ^\\[R\u0015xv\u0012F\u0015Y\\^P\u0015T\u0015EZ@[Q\u0015ZS\u0015WTVZ[\n",
      "n: uYY]_XQ\u0016{u\u0011E\u0016Z_]S\u0016W\u0016FYCXR\u0016YP\u0016TWUYX\n",
      "o: tXX\\^YP\u0017zt\u0010D\u0017[^\\R\u0017V\u0017GXBYS\u0017XQ\u0017UVTXY\n",
      "p: kGGCAFek\u000FDACXG]FGJIKGF\n",
      "q: jFFB@GN\tdj\u000EZ\tE@BL\tH\tYF\\GM\tFO\tKHJFG\n",
      "r: iEEACDM\n",
      "Yi\n",
      "FCAO\n",
      "K\n",
      "ZE_DN\n",
      "EL\n",
      "HKIED\n",
      "s: hDD@BEL\u000Bfh\fX\u000BGB@N\u000BJ\u000B[D^EO\u000BDM\u000BIJHDE\n",
      "t: oCCGEBK\fao\u000B_\f@EGI\fM\f\\CYBH\fCJ\fNMOCB\n",
      "`n nBBFDCJ\n",
      "OLNBC\n",
      "v: mAAEG@I\u000Ecm\t]\u000EBGEK\u000EO\u000E^A[@J\u000EAH\u000ELOMA@\n",
      "w: l@@DFAH\u000Fb\\\u000FCFDJ\u000FN\u000F_@ZAK\u000F@I\u000FMNL@A\n",
      "x: cOOKING\u0000mc\u0007S\u0000LIKE\u0000A\u0000POUND\u0000OF\u0000BACON\n",
      "y: bNNJHOF\u0001lb\u0006R\u0001MHJD\u0001@\u0001QNTOE\u0001NG\u0001C@BNO\n",
      "z: aMMIKLE\u0002oa\u0005Q\u0002NKIG\u0002C\u0002RMWLF\u0002MD\u0002@CAML\n",
      "A: Zvvrpw~9TZ>j9upr|9x9ivlw}9v9{xzvw\n",
      "B: Yuuqst}:WY=i:vsq:{:juot~:u|:x{yut\n",
      "C: Xttpru|;VX<h;wrp~;z;ktnu;t};yzxtu\n",
      "D: _sswur{<Q_;o<puwy<}<lsirx<sz<~}sr\n",
      "E: ^rrvtsz=P^:n=qtvx=|=mrhsy=r{=|~rs\n",
      "F: ]qquwpy>S]9m>rwu{>>nqkpz>qx>|}qp\n",
      "G: \\pptvqx?R\\8l?svtz?~?opjq{?py?}~|pq\n",
      "H: S{y~w0]S7c0|y{u0q0`e~t0v0rqs~\n",
      "I: R~~zxv1\\R6b1}xzt1p1a~du1~w1spr~\n",
      "J: Q}}y{|u2_Q5a2~{yw2s2b}g|v2}t2psq}|\n",
      "K: P||xz}t3^P4`3zxv3r3c|f}w3|u3qrp|}\n",
      "L: W{{}zs4YW3g4x}q4u4d{azp4{r4vuw{z\n",
      "M: Vzz~|{r5XV2f5y|~p5t5ez`{q5zs5wtvz{\n",
      "N: Uyy}xq6[U1e6z}s6w6fycxr6yp6twuyx\n",
      "O: Txx|~yp7ZT0d7{~|r7v7gxbys7xq7uvtxy\n",
      "P: Kggcafo(EK/{(dacm(i(xg}fl(gn(jikgf\n",
      "Q: Jffb`gn)DJ.z)e`bl)h)yf|gm)fo)khjfg\n",
      "R: Ieeacdm*GI-y*fcao*k*zedn*el*hkied\n",
      "S: Hdd`bel+FH,x+gb`n+j+{d~eo+dm+ijhde\n",
      "T: Occgebk,AO+,`egi,m,|cybh,cj,nmocb\n",
      "U: Nbbfdcj-@N*~-adfh-l-}bxci-bk-olnbc\n",
      "V: Maaeg`i.CM)}.bgek.o.~a{`j.ah.loma`\n",
      "W: L``dfah/BL(|/cfdj/n/`zak/`i/mnl`a\n",
      "X: Cooking MC's like a pound of bacon\n",
      "Y: Bnnjhof!LB&r!mhjd!`!qntoe!ng!c`bno\n",
      "Z: Ammikle\"OA%q\"nkig\"c\"rmwlf\"md\"`caml\n"
     ]
    }
   ],
   "source": [
    "// Challenge 3\n",
    "\n",
    "// https://gchq.github.io/CyberChef/\n",
    "\n",
    "val input = \"1b37373331363f78151b7f2b783431333d78397828372d363c78373e783a393b3736\"\n",
    "\n",
    "val bytesArr: ByteArray = input.chunked(2).map { it.toInt(16).toByte() }.toByteArray()\n",
    "\n",
    "fun xorWithByte(bytesArr: ByteArray, byte: Byte): ByteArray {\n",
    "    return bytesArr.map { it.xor(byte) }.toByteArray()\n",
    "}\n",
    "fun bytesToString(bytesArr: ByteArray): String {\n",
    "    return bytesArr.map { it.toInt().toChar() }.joinToString(\"\")\n",
    "}\n",
    "\n",
    "for (i in ('a'..'z') + ('A'..'Z') ) {\n",
    "    val byteChar = i\n",
    "    val output = xorWithByte(bytesArr, byteChar.toByte())\n",
    "    println(\"${byteChar.toChar()}: \" + bytesToString(output))\n",
    "}\n",
    "\n"
   ],
   "metadata": {
    "collapsed": false,
    "ExecuteTime": {
     "end_time": "2023-12-16T03:25:14.457499682Z",
     "start_time": "2023-12-16T03:25:14.373996226Z"
    }
   }
  },
  {
   "cell_type": "code",
   "execution_count": null,
   "outputs": [],
   "source": [],
   "metadata": {
    "collapsed": false
   }
  }
 ],
 "metadata": {
  "kernelspec": {
   "display_name": "Kotlin",
   "language": "kotlin",
   "name": "kotlin"
  },
  "language_info": {
   "name": "kotlin",
   "version": "1.9.0",
   "mimetype": "text/x-kotlin",
   "file_extension": ".kt",
   "pygments_lexer": "kotlin",
   "codemirror_mode": "text/x-kotlin",
   "nbconvert_exporter": ""
  }
 },
 "nbformat": 4,
 "nbformat_minor": 0
}
